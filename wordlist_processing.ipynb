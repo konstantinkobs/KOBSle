{
 "cells": [
  {
   "cell_type": "code",
   "execution_count": 131,
   "metadata": {},
   "outputs": [],
   "source": [
    "import json"
   ]
  },
  {
   "cell_type": "code",
   "execution_count": 112,
   "metadata": {},
   "outputs": [],
   "source": [
    "# Top 10000 German words taken from http://pcai056.informatik.uni-leipzig.de/downloads/etc/legacy/Papers/top10000de.txt\n",
    "with open(\"top10000de.txt\", \"r\", encoding=\"latin\") as f:\n",
    "    words = f.readlines()"
   ]
  },
  {
   "cell_type": "code",
   "execution_count": 115,
   "metadata": {},
   "outputs": [],
   "source": [
    "# strip new line characters\n",
    "words = [word.strip() for word in words]\n",
    "# convert to lower case\n",
    "words = [word.lower() for word in words]\n",
    "# convert ä to ae, ö to oe, ü to ue, ß to ss\n",
    "words = [word.replace(\"ä\", \"ae\").replace(\"ö\", \"oe\").replace(\"ü\", \"ue\").replace(\"ß\", \"ss\") for word in words]\n",
    "# remove words shorter than 3 characters and longer than 19 characters\n",
    "words = [word for word in words if len(word) >= 3 and len(word) <= 19]\n",
    "# filter all words that contain non-ascii characters\n",
    "words = [word for word in words if all(ord(c) < 128 for c in word)]"
   ]
  },
  {
   "cell_type": "code",
   "execution_count": 117,
   "metadata": {},
   "outputs": [
    {
     "data": {
      "text/plain": [
       "9822"
      ]
     },
     "execution_count": 117,
     "metadata": {},
     "output_type": "execute_result"
    }
   ],
   "source": [
    "len(words)"
   ]
  },
  {
   "cell_type": "code",
   "execution_count": 132,
   "metadata": {},
   "outputs": [],
   "source": [
    "# write it to a file\n",
    "with open(\"wortlistealle.js\", \"w\") as f:\n",
    "    f.write(\"const WORTLISTEALLE = \" + json.dumps(words) + \";\")"
   ]
  }
 ],
 "metadata": {
  "kernelspec": {
   "display_name": "Python 3",
   "language": "python",
   "name": "python3"
  },
  "language_info": {
   "codemirror_mode": {
    "name": "ipython",
    "version": 3
   },
   "file_extension": ".py",
   "mimetype": "text/x-python",
   "name": "python",
   "nbconvert_exporter": "python",
   "pygments_lexer": "ipython3",
   "version": "3.10.8"
  },
  "orig_nbformat": 4,
  "vscode": {
   "interpreter": {
    "hash": "aee8b7b246df8f9039afb4144a1f6fd8d2ca17a180786b69acc140d282b71a49"
   }
  }
 },
 "nbformat": 4,
 "nbformat_minor": 2
}
